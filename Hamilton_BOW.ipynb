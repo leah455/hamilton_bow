{
 "cells": [
  {
   "cell_type": "code",
   "execution_count": 6,
   "metadata": {},
   "outputs": [],
   "source": [
    "import re\n",
    "import nltk\n",
    "from nltk.tokenize import word_tokenize\n",
    "from nltk.stem import PorterStemmer\n",
    "from nltk.stem import WordNetLemmatizer\n",
    "from nltk.corpus import stopwords\n",
    "from nltk.corpus import wordnet\n",
    "from collections import Counter\n",
    "from nltk.util import ngrams\n",
    "import matplotlib.pyplot as plt"
   ]
  },
  {
   "cell_type": "code",
   "execution_count": 7,
   "metadata": {},
   "outputs": [],
   "source": [
    "#Open file \n",
    "with open('hamilton_lyrics.txt', 'r') as file:\n",
    "    lyrics = file.read()\n",
    "\n",
    "#Remove anything that is not a word from text and make everything lower case\n",
    "cleaned_words = re.sub(r'\\W+', ' ', lyrics).lower()"
   ]
  },
  {
   "cell_type": "code",
   "execution_count": 8,
   "metadata": {},
   "outputs": [],
   "source": [
    "#Tokenize words\n",
    "word_tokens= word_tokenize(cleaned_words)\n",
    "\n",
    "#Remove most common stop words\n",
    "stop_words = stopwords.words('english')\n",
    "\n",
    "filtered_words = []\n",
    "for word in word_tokens:\n",
    "    if word not in stop_words:\n",
    "        filtered_words.append(word)"
   ]
  },
  {
   "cell_type": "code",
   "execution_count": 9,
   "metadata": {},
   "outputs": [],
   "source": [
    "#Part of speech tagging\n",
    "def get_part_of_speech(word):\n",
    "    probable_part_of_speech = wordnet.synsets(word)\n",
    "    pos_counts = Counter()\n",
    "    pos_counts[\"n\"] = len([ item for item in probable_part_of_speech if item.pos()==\"n\"])\n",
    "    pos_counts[\"v\"] = len([ item for item in probable_part_of_speech if item.pos()==\"v\"])\n",
    "    pos_counts[\"a\"] = len([ item for item in probable_part_of_speech if item.pos()==\"a\"])\n",
    "    pos_counts[\"r\"] = len([ item for item in probable_part_of_speech if item.pos()==\"r\"])\n",
    "    most_likely_part_of_speech = pos_counts.most_common(1)[0][0]\n",
    "    return most_likely_part_of_speech\n",
    "\n",
    "#Lemmatization of words\n",
    "normalizer = WordNetLemmatizer()\n",
    "normalized = [normalizer.lemmatize(token, get_part_of_speech(token)) for token in filtered_words]"
   ]
  },
  {
   "cell_type": "code",
   "execution_count": 11,
   "metadata": {},
   "outputs": [],
   "source": [
    "#Create bag of words dictionary \n",
    "def text_to_bow(text):\n",
    "    bow_dictionary = {}\n",
    "    tokens = text\n",
    "    for token in tokens:\n",
    "        if token in bow_dictionary:\n",
    "            bow_dictionary[token] += 1\n",
    "        else:\n",
    "            bow_dictionary[token] = 1\n",
    "    return bow_dictionary"
   ]
  },
  {
   "cell_type": "code",
   "execution_count": 12,
   "metadata": {},
   "outputs": [
    {
     "name": "stdout",
     "output_type": "stream",
     "text": [
      "[('im', 202), ('get', 146), ('know', 129), ('say', 119), ('da', 103), ('go', 101), ('hamilton', 88), ('time', 88), ('wait', 86), ('take', 85)]\n"
     ]
    },
    {
     "data": {
      "image/png": "[encoded data removed]",
      "text/plain": [
       "<Figure size 720x432 with 1 Axes>"
      ]
     },
     "metadata": {
      "needs_background": "light"
     },
     "output_type": "display_data"
    }
   ],
   "source": [
    "#Sort BOW by dictionary value\n",
    "sorted_words = sorted(text_to_bow(normalized).items(), key=lambda x: x[1], reverse=True)\n",
    "\n",
    "#Top 10 most common words used in Hamilton\n",
    "top10 = sorted_words[:10]\n",
    "\n",
    "print(top10)\n",
    "\n",
    "#Plot top 10 words\n",
    "x = range(len(top10))\n",
    "y = [202, 146, 129, 119, 103, 101, 88, 88, 86, 85]\n",
    "\n",
    "plt.figure(figsize = (10, 6))\n",
    "\n",
    "ax = plt.subplot()\n",
    "plt.bar(x, y)\n",
    "ax.set_xticks(range(len(top10)))\n",
    "ax.set_xticklabels(['im', 'get', 'know', 'say', 'da', 'go', 'hamilton', 'time', 'wait', 'take'])\n",
    "plt.title('Top 10 Words in Hamilton')\n",
    "plt.xlabel('Word')\n",
    "plt.ylabel('Number of Times Said')\n",
    "plt.show()"
   ]
  },
  {
   "cell_type": "code",
   "execution_count": 12,
   "metadata": {},
   "outputs": [
    {
     "data": {
      "image/png": "[encoded data removed]",
      "text/plain": [
       "<Figure size 720x432 with 1 Axes>"
      ]
     },
     "metadata": {
      "needs_background": "light"
     },
     "output_type": "display_data"
    }
   ],
   "source": [
    "#5 most common bigrams\n",
    "bigrams_prepped = ngrams(normalized, 2)\n",
    "bigrams = Counter(bigrams_prepped)\n",
    "most_common_bigrams = bigrams.most_common(5)\n",
    "\n",
    "print(most_common_bigrams)\n",
    "\n",
    "#Plot top 3 bigrams\n",
    "x_ngram = range(len(most_common_bigrams))\n",
    "y_ngram = [62, 54, 49]\n",
    "\n",
    "plt.figure(figsize = (10, 6))\n",
    "\n",
    "ax2 = plt.subplot()\n",
    "plt.bar(x_ngram, y_ngram)\n",
    "ax2.set_xticks(range(len(most_common_bigrams)))\n",
    "ax2.set_xticklabels(['da, da', 'room, happen', 'wait, wait'])\n",
    "plt.title('Top 3 Bigrams in Hamilton')\n",
    "plt.xlabel('Bigram')\n",
    "plt.ylabel('Number of Times Said')\n",
    "plt.show()"
   ]
  }
 ],
 "metadata": {
  "kernelspec": {
   "display_name": "Python 3",
   "language": "python",
   "name": "python3"
  },
  "language_info": {
   "codemirror_mode": {
    "name": "ipython",
    "version": 3
   },
   "file_extension": ".py",
   "mimetype": "text/x-python",
   "name": "python",
   "nbconvert_exporter": "python",
   "pygments_lexer": "ipython3",
   "version": "3.7.7"
  }
 },
 "nbformat": 4,
 "nbformat_minor": 4
}
